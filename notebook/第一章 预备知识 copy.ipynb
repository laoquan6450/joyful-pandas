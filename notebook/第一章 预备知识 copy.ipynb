{
 "cells": [
  {
   "cell_type": "markdown",
   "metadata": {},
   "source": [
    "<center><h1>第一章 预备知识</h1></center>"
   ]
  },
  {
   "cell_type": "markdown",
   "metadata": {},
   "source": [
    "## 一、Python基础\n",
    "### 1. 列表推导式与条件赋值\n",
    "\n",
    "在生成一个数字序列的时候，在`Python`中可以如下写出："
   ]
  },
  {
   "cell_type": "code",
   "execution_count": null,
   "metadata": {},
   "outputs": [],
   "source": [
    "L = []  # 创建空列表\n",
    "\n",
    "def my_func(x):      # 定义函数\n",
    "    return 2*x      # 定义函数功能\n",
    "\n",
    "for i in range(5):  # 循环5次\n",
    "    L.append(my_func(i))    # 将函数的返回值添加到列表中\n",
    "L    # 输出列表"
   ]
  },
  {
   "cell_type": "markdown",
   "metadata": {},
   "source": [
    "事实上可以利用列表推导式进行写法上的简化：`[* for i in *]`。其中，第一个`*`为映射函数，其输入为后面`i`指代的内容，第二个`*`表示迭代的对象。"
   ]
  },
  {
   "cell_type": "code",
   "execution_count": null,
   "metadata": {},
   "outputs": [],
   "source": [
    "l = [2*x for x in range(5)]\n",
    "\n",
    "l"
   ]
  },
  {
   "cell_type": "code",
   "execution_count": null,
   "metadata": {},
   "outputs": [],
   "source": [
    "[my_func(i) for i in range(5)]"
   ]
  },
  {
   "cell_type": "markdown",
   "metadata": {},
   "source": [
    "列表表达式还支持多层嵌套，如下面的例子中第一个`for`为外层循环，第二个为内层循环："
   ]
  },
  {
   "cell_type": "code",
   "execution_count": null,
   "metadata": {},
   "outputs": [],
   "source": [
    "[m+'_'+n for m in ['a', 'b'] for n in ['c', 'd']]"
   ]
  },
  {
   "cell_type": "markdown",
   "metadata": {},
   "source": [
    "除了列表推导式，另一个实用的语法糖是带有`if`选择的条件赋值，其形式为`value = a if condition else b`："
   ]
  },
  {
   "cell_type": "code",
   "execution_count": null,
   "metadata": {},
   "outputs": [],
   "source": [
    "value = 'cat' if 2>1 else 'dog'\n",
    "value"
   ]
  },
  {
   "cell_type": "markdown",
   "metadata": {},
   "source": [
    "等价于如下的写法：\n",
    "```python\n",
    "a, b = 'cat', 'dog'\n",
    "condition = 2 > 1 # 此时为True\n",
    "if condition:\n",
    "    value = a\n",
    "else:\n",
    "    value = b\n",
    "```"
   ]
  },
  {
   "cell_type": "markdown",
   "metadata": {},
   "source": [
    "下面举一个例子，截断列表中超过5的元素，即超过5的用5代替，小于5的保留原来的值："
   ]
  },
  {
   "cell_type": "code",
   "execution_count": null,
   "metadata": {},
   "outputs": [],
   "source": [
    "L = [1, 2, 3, 4, 5, 6, 7]\n",
    "[i if i <= 5 else 5 for i in L]"
   ]
  },
  {
   "cell_type": "markdown",
   "metadata": {},
   "source": [
    "### 2. 匿名函数与map方法\n",
    "\n",
    "有一些函数的定义具有清晰简单的映射关系，例如上面的`my_func`函数，这时候可以用匿名函数的方法简洁地表示："
   ]
  },
  {
   "cell_type": "markdown",
   "metadata": {},
   "source": [
    "1. 匿名函数(lambda)的基本语法"
   ]
  },
  {
   "cell_type": "code",
   "execution_count": null,
   "metadata": {},
   "outputs": [],
   "source": [
    "# 基本语法：lambda 参数: 表达式\n",
    "\n",
    "# 1. 单参数lambda函数\n",
    "f1 = lambda x: x * 2  # 将输入乘以2\n",
    "print(f1(3))  # 输出: 6\n",
    "\n",
    "# 2. 多参数lambda函数\n",
    "f2 = lambda x, y: x + y  # 两个数相加\n",
    "print(f2(2, 3))  # 输出: 5\n",
    "\n",
    "# 3. 带条件的lambda函数\n",
    "f3 = lambda x: 'positive' if x > 0 else 'negative'\n",
    "print(f3(1))   # 输出: positive\n",
    "print(f3(-1))  # 输出: negative\n",
    "\n",
    "# 4. 在列表推导式中使用lambda\n",
    "numbers = [1, 2, 3, 4]\n",
    "squares = [(lambda x: x**2)(x) for x in numbers]\n",
    "print(squares)  # 输出: [1, 4, 9, 16]"
   ]
  },
  {
   "cell_type": "markdown",
   "metadata": {},
   "source": [
    "但上面的用法其实违背了“匿名”的含义，事实上它往往在无需多处调用的场合进行使用，例如上面列表推导式中的例子，用户不关心函数的名字，只关心这种映射的关系："
   ]
  },
  {
   "cell_type": "code",
   "execution_count": null,
   "metadata": {},
   "outputs": [],
   "source": [
    "[(lambda x: 2*x)(i) for i in range(5)]"
   ]
  },
  {
   "cell_type": "markdown",
   "metadata": {},
   "source": [
    "对于上述的这种列表推导式的匿名函数映射，`Python`中提供了`map`函数来完成，它返回的是一个`map`对象，需要通过`list`转为列表："
   ]
  },
  {
   "cell_type": "markdown",
   "metadata": {},
   "source": [
    "2. map方法的使用"
   ]
  },
  {
   "cell_type": "code",
   "execution_count": null,
   "metadata": {},
   "outputs": [],
   "source": [
    "# map基本语法：map(function, iterable, ...)\n",
    "\n",
    "# 1. 使用map配合lambda函数\n",
    "numbers = [1, 2, 3, 4, 5]\n",
    "# 将每个数字翻倍\n",
    "doubled = list(map(lambda x: x * 2, numbers))\n",
    "print(doubled)  # 输出: [2, 4, 6, 8, 10]\n",
    "\n",
    "# 2. map处理多个迭代器\n",
    "list1 = [1, 2, 3]\n",
    "list2 = [10, 20, 30]\n",
    "# 将两个列表对应元素相加\n",
    "sums = list(map(lambda x, y: x + y, list1, list2))\n",
    "print(sums)  # 输出: [11, 22, 33]\n",
    "\n",
    "# 3. 使用map进行类型转换\n",
    "numbers_str = ['1', '2', '3', '4']\n",
    "# 将字符串列表转换为整数列表\n",
    "numbers_int = list(map(int, numbers_str))\n",
    "print(numbers_int)  # 输出: [1, 2, 3, 4]\n",
    "\n",
    "# 4. map配合普通函数\n",
    "def square(x):\n",
    "    return x ** 2\n",
    "    \n",
    "squared_numbers = list(map(square, numbers))\n",
    "print(squared_numbers)  # 输出: [1, 4, 9, 16]\n",
    "\n",
    "# 5. 处理字符串\n",
    "words = ['hello', 'world', 'python']\n",
    "# 将所有单词转换为大写\n",
    "upper_words = list(map(str.upper, words))\n",
    "print(upper_words)  # 输出: ['HELLO', 'WORLD', 'PYTHON']\n",
    "\n",
    "# 6. 复杂数据处理\n",
    "people = [{'name': 'Alice', 'age': 25}, \n",
    "         {'name': 'Bob', 'age': 30}]\n",
    "# 提取所有年龄\n",
    "ages = list(map(lambda x: x['age'], people))\n",
    "print(ages)  # 输出: [25, 30]\n",
    "\n",
    "# 7. 条件处理\n",
    "numbers = [-2, -1, 0, 1, 2]\n",
    "# 获取每个数的绝对值\n",
    "abs_numbers = list(map(abs, numbers))\n",
    "print(abs_numbers)  # 输出: [2, 1, 0, 1, 2]\n",
    "\n",
    "# 8. 多条件处理\n",
    "def process_number(x):\n",
    "    if x < 0:\n",
    "        return 'negative'\n",
    "    elif x == 0:\n",
    "        return 'zero'\n",
    "    else:\n",
    "        return 'positive'\n",
    "        \n",
    "results = list(map(process_number, numbers))\n",
    "print(results)  # 输出: ['negative', 'negative', 'zero', 'positive', 'positive']"
   ]
  },
  {
   "cell_type": "code",
   "execution_count": null,
   "metadata": {},
   "outputs": [],
   "source": [
    "list(map(lambda x: 2*x, range(5)))"
   ]
  },
  {
   "cell_type": "markdown",
   "metadata": {},
   "source": [
    "对于多个输入值的函数映射，可以通过追加迭代对象实现："
   ]
  },
  {
   "cell_type": "markdown",
   "metadata": {},
   "source": [
    "3. map与lambda的组合使用进阶示例"
   ]
  },
  {
   "cell_type": "code",
   "execution_count": null,
   "metadata": {},
   "outputs": [],
   "source": [
    "# 1. 处理嵌套列表\n",
    "nested_list = [[1, 2], [3, 4], [5, 6]]\n",
    "# 计算每个子列表的和\n",
    "sums = list(map(lambda x: sum(x), nested_list))\n",
    "print(sums)  # 输出: [3, 7, 11]\n",
    "\n",
    "# 2. 条件过滤和转换\n",
    "numbers = [1, 2, 3, 4, 5]\n",
    "# 对偶数翻倍，奇数保持不变\n",
    "processed = list(map(lambda x: x * 2 if x % 2 == 0 else x, numbers))\n",
    "print(processed)  # 输出: [1, 4, 3, 8, 5]\n",
    "\n",
    "# 3. 同时处理多个条件和多个列表\n",
    "list1 = [1, 2, 3]\n",
    "list2 = [4, 5, 6]\n",
    "list3 = [7, 8, 9]\n",
    "# 根据条件选择不同列表的值\n",
    "result = list(map(lambda x, y, z: max(x, y, z) if x > 0 else min(x, y, z), \n",
    "                 list1, list2, list3))\n",
    "print(result)  # 输出: [7, 8, 9]\n",
    "\n",
    "# 4. 字符串处理\n",
    "names = ['alice smith', 'bob johnson', 'charlie brown']\n",
    "# 将每个名字转换为标题格式并获取姓氏\n",
    "formatted_names = list(map(lambda x: x.title().split()[1], names))\n",
    "print(formatted_names)  # 输出: ['Smith', 'Johnson', 'Brown']"
   ]
  },
  {
   "cell_type": "markdown",
   "metadata": {},
   "source": [
    "注意事项：   \n",
    "1. lambda函数应该保持简单，复杂的逻辑应该使用普通函数    \n",
    "2. map返回的是一个迭代器，需要使用list()转换为列表    \n",
    "3. 当处理大量数据时，考虑使用列表推导式可能更易读    \n",
    "4. map可以处理多个迭代器，但会在最短的迭代器结束时停止    \n",
    "5. lambda函数不支持多行语句，只能有一个表达式    \n",
    "这些示例展示了lambda和map的多种用法，从基础到进阶。理解这些用法可以帮助你更好地处理数据转换和函数式编程任务。"
   ]
  },
  {
   "cell_type": "code",
   "execution_count": null,
   "metadata": {},
   "outputs": [],
   "source": [
    "list(map(lambda x, y: str(x)+'_'+y, range(5), list('abcde')))"
   ]
  },
  {
   "cell_type": "markdown",
   "metadata": {},
   "source": [
    "### 3. zip对象与enumerate方法\n",
    "\n",
    "`zip`函数能够把多个可迭代对象打包成一个元组构成的可迭代对象，它返回了一个`zip`对象，通过`tuple`, `list`可以得到相应的打包结果："
   ]
  },
  {
   "cell_type": "markdown",
   "metadata": {},
   "source": [
    "1. zip对象的基本用法"
   ]
  },
  {
   "cell_type": "code",
   "execution_count": null,
   "metadata": {},
   "outputs": [],
   "source": [
    "# 1. 基本的zip操作\n",
    "names = ['Alice', 'Bob', 'Charlie']\n",
    "ages = [25, 30, 35]\n",
    "scores = [90, 85, 95]\n",
    "\n",
    "# 将多个列表打包成元组对\n",
    "zipped = list(zip(names, ages, scores))\n",
    "print(zipped)  # 输出: [('Alice', 25, 90), ('Bob', 30, 85), ('Charlie', 35, 95)]\n",
    "\n",
    "# 2. 解压zip对象\n",
    "names_new, ages_new, scores_new = zip(*zipped)\n",
    "print(names_new)   # 输出: ('Alice', 'Bob', 'Charlie')\n",
    "print(ages_new)    # 输出: (25, 30, 35)\n",
    "print(scores_new)  # 输出: (90, 85, 95)\n",
    "\n",
    "# 3. 创建字典\n",
    "student_dict = dict(zip(names, ages))\n",
    "print(student_dict)  # 输出: {'Alice': 25, 'Bob': 30, 'Charlie': 35}\n",
    "\n",
    "# 4. 处理不等长序列\n",
    "list1 = [1, 2, 3, 4]\n",
    "list2 = ['a', 'b', 'c']\n",
    "print(list(zip(list1, list2)))  # 输出: [(1, 'a'), (2, 'b'), (3, 'c')] - 以最短的为准\n",
    "\n",
    "# 5. 在循环中使用zip\n",
    "for name, age, score in zip(names, ages, scores):\n",
    "    print(f\"{name}: {age} years old, score: {score}\")"
   ]
  },
  {
   "cell_type": "code",
   "execution_count": null,
   "metadata": {},
   "outputs": [],
   "source": [
    "L1, L2, L3 = list('abc'), list('def'), list('hij')\n",
    "list(zip(L1, L2, L3))"
   ]
  },
  {
   "cell_type": "code",
   "execution_count": null,
   "metadata": {},
   "outputs": [],
   "source": [
    "tuple(zip(L1, L2, L3))"
   ]
  },
  {
   "cell_type": "markdown",
   "metadata": {},
   "source": [
    "往往会在循环迭代的时候使用到`zip`函数："
   ]
  },
  {
   "cell_type": "code",
   "execution_count": null,
   "metadata": {},
   "outputs": [],
   "source": [
    "for i, j, k in zip(L1, L2, L3):\n",
    "     print(i, j, k)"
   ]
  },
  {
   "cell_type": "markdown",
   "metadata": {},
   "source": [
    "`enumerate`是一种特殊的打包，它可以在迭代时绑定迭代元素的遍历序号："
   ]
  },
  {
   "cell_type": "markdown",
   "metadata": {},
   "source": [
    "2. enumerate方法的基本用法"
   ]
  },
  {
   "cell_type": "code",
   "execution_count": null,
   "metadata": {},
   "outputs": [],
   "source": [
    "# 1. 基本的enumerate用法\n",
    "fruits = ['apple', 'banana', 'cherry']\n",
    "for index, fruit in enumerate(fruits):\n",
    "    print(f\"Index {index}: {fruit}\")\n",
    "# 输出:\n",
    "# Index 0: apple\n",
    "# Index 1: banana\n",
    "# Index 2: cherry\n",
    "\n",
    "# 2. 指定起始索引\n",
    "for index, fruit in enumerate(fruits, start=1):\n",
    "    print(f\"Fruit #{index}: {fruit}\")\n",
    "# 输出:\n",
    "# Fruit #1: apple\n",
    "# Fruit #2: banana\n",
    "# Fruit #3: cherry\n",
    "\n",
    "# 3. 转换为列表或字典\n",
    "enum_list = list(enumerate(fruits))\n",
    "print(enum_list)  # 输出: [(0, 'apple'), (1, 'banana'), (2, 'cherry')]\n",
    "\n",
    "enum_dict = dict(enumerate(fruits))\n",
    "print(enum_dict)  # 输出: {0: 'apple', 1: 'banana', 2: 'cherry'}"
   ]
  },
  {
   "cell_type": "markdown",
   "metadata": {},
   "source": [
    "3. zip和enumerate的组合使用"
   ]
  },
  {
   "cell_type": "code",
   "execution_count": null,
   "metadata": {},
   "outputs": [],
   "source": [
    "# 1. 同时处理多个列表并带索引\n",
    "names = ['Alice', 'Bob', 'Charlie']\n",
    "ages = [25, 30, 35]\n",
    "\n",
    "for i, (name, age) in enumerate(zip(names, ages)):\n",
    "    print(f\"Person {i+1}: {name} is {age} years old\")\n",
    "# 输出:\n",
    "# Person 1: Alice is 25 years old\n",
    "# Person 2: Bob is 30 years old\n",
    "# Person 3: Charlie is 35 years old\n",
    "\n",
    "# 2. 创建复杂的数据结构\n",
    "data = list(enumerate(zip(names, ages)))\n",
    "print(data)  # 输出: [(0, ('Alice', 25)), (1, ('Bob', 30)), (2, ('Charlie', 35))]\n",
    "\n",
    "# 3. 矩阵操作\n",
    "matrix = [[1, 2, 3],\n",
    "          [4, 5, 6],\n",
    "          [7, 8, 9]]\n",
    "\n",
    "# 打印矩阵的行号和内容\n",
    "for i, row in enumerate(matrix):\n",
    "    print(f\"Row {i}: {row}\")\n",
    "\n",
    "# 转置矩阵\n",
    "transposed = list(zip(*matrix))\n",
    "print(transposed)  # 输出: [(1, 4, 7), (2, 5, 8), (3, 6, 9)]"
   ]
  },
  {
   "cell_type": "markdown",
   "metadata": {},
   "source": [
    "4. 实际应用示例"
   ]
  },
  {
   "cell_type": "code",
   "execution_count": null,
   "metadata": {},
   "outputs": [],
   "source": [
    "# 1. 处理CSV类型数据\n",
    "headers = ['name', 'age', 'city']\n",
    "row1 = ['Alice', '25', 'New York']\n",
    "row2 = ['Bob', '30', 'London']\n",
    "data = [row1, row2]\n",
    "\n",
    "# 将每行数据转换为字典\n",
    "for i, row in enumerate(data):\n",
    "    record = dict(zip(headers, row))\n",
    "    print(f\"Record {i+1}:\", record)\n",
    "\n",
    "# 2. 创建序号标签\n",
    "items = ['apple', 'banana', 'cherry']\n",
    "labels = [f\"Item_{i}\" for i in range(1, len(items)+1)]\n",
    "mapped = dict(zip(labels, items))\n",
    "print(mapped)  # 输出: {'Item_1': 'apple', 'Item_2': 'banana', 'Item_3': 'cherry'}\n",
    "\n",
    "# 3. 数据分析场景\n",
    "values = [10, 20, 30, 40, 50]\n",
    "weights = [0.1, 0.2, 0.3, 0.2, 0.2]\n",
    "\n",
    "# 计算加权和\n",
    "weighted_sum = sum(v * w for v, w in zip(values, weights))\n",
    "print(f\"Weighted sum: {weighted_sum}\")\n",
    "\n",
    "# 4. 并行迭代多个列表\n",
    "names = ['Alice', 'Bob', 'Charlie']\n",
    "ages = [25, 30, 35]\n",
    "cities = ['New York', 'London', 'Paris']\n",
    "\n",
    "for i, (name, age, city) in enumerate(zip(names, ages, cities), 1):\n",
    "    print(f\"Person {i}: {name} is {age} years old and lives in {city}\")"
   ]
  },
  {
   "cell_type": "markdown",
   "metadata": {},
   "source": [
    "注意事项： <br>\n",
    "1. zip会创建一个迭代器，如果需要多次使用，应该转换为列表  <br>\n",
    "2. zip会以最短的输入序列为准进行配对  <br>\n",
    "3. enumerate默认从0开始计数，可以通过start参数修改起始值  <br>\n",
    "4. 解压zip对象时使用星号操作符()  <br>\n",
    "5. zip和enumerate都可以配合列表推导式使用  <br>\n",
    "使用建议： \n",
    "<br>1. 当需要同时遍历多个序列时，使用zip  <br>2. 当需要索引位置时，使用enumerate  <br>3. 处理大数据时，考虑使用迭代器而不是立即转换为列表  <br>4. 在创建字典时，zip特别有用  <br>5. 在处理矩阵转置时，zip(matrix)是一个简洁的方法  <br>这些用法涵盖了大多数常见场景，掌握这些可以帮助你更高效地处理数据结构和序列操作。"
   ]
  },
  {
   "cell_type": "code",
   "execution_count": null,
   "metadata": {},
   "outputs": [],
   "source": [
    "L = list('abcd')\n",
    "for index, value in enumerate(L):\n",
    "     print(index, value)"
   ]
  },
  {
   "cell_type": "markdown",
   "metadata": {},
   "source": [
    "用`zip`对象也能够简单地实现这个功能："
   ]
  },
  {
   "cell_type": "code",
   "execution_count": null,
   "metadata": {},
   "outputs": [],
   "source": [
    "for index, value in zip(range(len(L)), L):\n",
    "     print(index, value)"
   ]
  },
  {
   "cell_type": "markdown",
   "metadata": {},
   "source": [
    "当需要对两个列表建立字典映射时，可以利用`zip`对象："
   ]
  },
  {
   "cell_type": "code",
   "execution_count": null,
   "metadata": {},
   "outputs": [],
   "source": [
    "dict(zip(L1, L2))"
   ]
  },
  {
   "cell_type": "markdown",
   "metadata": {},
   "source": [
    "既然有了压缩函数，那么`Python`也提供了`*`操作符和`zip`联合使用来进行解压操作："
   ]
  },
  {
   "cell_type": "code",
   "execution_count": null,
   "metadata": {},
   "outputs": [],
   "source": [
    "zipped = list(zip(L1, L2, L3))\n",
    "zipped"
   ]
  },
  {
   "cell_type": "code",
   "execution_count": null,
   "metadata": {},
   "outputs": [],
   "source": [
    "list(zip(*zipped)) # 三个元组分别对应原来的列表"
   ]
  },
  {
   "cell_type": "markdown",
   "metadata": {},
   "source": [
    "## 二、Numpy基础\n",
    "### 1. np数组的构造\n",
    "最一般的方法是通过`array`来构造："
   ]
  },
  {
   "cell_type": "code",
   "execution_count": 4,
   "metadata": {},
   "outputs": [
    {
     "data": {
      "text/plain": [
       "array([1, 2, 3])"
      ]
     },
     "execution_count": 4,
     "metadata": {},
     "output_type": "execute_result"
    }
   ],
   "source": [
    "import numpy as np\n",
    "np.array([1,2,3])"
   ]
  },
  {
   "cell_type": "markdown",
   "metadata": {},
   "source": [
    "下面讨论一些特殊数组的生成方式：\n",
    "\n",
    "【a】等差序列：`np.linspace`, `np.arange`"
   ]
  },
  {
   "cell_type": "code",
   "execution_count": 5,
   "metadata": {},
   "outputs": [
    {
     "data": {
      "text/plain": [
       "array([1. , 1.4, 1.8, 2.2, 2.6, 3. , 3.4, 3.8, 4.2, 4.6, 5. ])"
      ]
     },
     "execution_count": 5,
     "metadata": {},
     "output_type": "execute_result"
    }
   ],
   "source": [
    "np.linspace(1,5,11) # 起始、终止（包含）、样本个数"
   ]
  },
  {
   "cell_type": "code",
   "execution_count": 6,
   "metadata": {},
   "outputs": [
    {
     "data": {
      "text/plain": [
       "array([1, 3])"
      ]
     },
     "execution_count": 6,
     "metadata": {},
     "output_type": "execute_result"
    }
   ],
   "source": [
    "np.arange(1,5,2) # 起始、终止（不包含）、步长"
   ]
  },
  {
   "cell_type": "markdown",
   "metadata": {},
   "source": [
    "【b】特殊矩阵：`zeros`, `eye`, `full`"
   ]
  },
  {
   "cell_type": "code",
   "execution_count": 7,
   "metadata": {},
   "outputs": [
    {
     "data": {
      "text/plain": [
       "array([[0., 0., 0.],\n",
       "       [0., 0., 0.]])"
      ]
     },
     "execution_count": 7,
     "metadata": {},
     "output_type": "execute_result"
    }
   ],
   "source": [
    "np.zeros((2,3)) # 传入元组表示各维度大小"
   ]
  },
  {
   "cell_type": "code",
   "execution_count": 8,
   "metadata": {},
   "outputs": [
    {
     "data": {
      "text/plain": [
       "array([[1., 0., 0.],\n",
       "       [0., 1., 0.],\n",
       "       [0., 0., 1.]])"
      ]
     },
     "execution_count": 8,
     "metadata": {},
     "output_type": "execute_result"
    }
   ],
   "source": [
    "np.eye(3) # 3*3的单位矩阵"
   ]
  },
  {
   "cell_type": "code",
   "execution_count": 9,
   "metadata": {},
   "outputs": [
    {
     "data": {
      "text/plain": [
       "array([[0., 1., 0.],\n",
       "       [0., 0., 1.],\n",
       "       [0., 0., 0.]])"
      ]
     },
     "execution_count": 9,
     "metadata": {},
     "output_type": "execute_result"
    }
   ],
   "source": [
    "np.eye(3, k=1) # 偏移主对角线1个单位的伪单位矩阵"
   ]
  },
  {
   "cell_type": "code",
   "execution_count": 10,
   "metadata": {},
   "outputs": [
    {
     "data": {
      "text/plain": [
       "array([[10, 10, 10],\n",
       "       [10, 10, 10]])"
      ]
     },
     "execution_count": 10,
     "metadata": {},
     "output_type": "execute_result"
    }
   ],
   "source": [
    "np.full((2,3), 10) # 元组传入大小，10表示填充数值"
   ]
  },
  {
   "cell_type": "code",
   "execution_count": 11,
   "metadata": {},
   "outputs": [
    {
     "data": {
      "text/plain": [
       "array([[1, 2, 3],\n",
       "       [1, 2, 3]])"
      ]
     },
     "execution_count": 11,
     "metadata": {},
     "output_type": "execute_result"
    }
   ],
   "source": [
    "np.full((2,3), [1,2,3]) # 每行填入相同的列表"
   ]
  },
  {
   "cell_type": "markdown",
   "metadata": {},
   "source": [
    "【c】随机矩阵：`np.random`\n",
    "\n",
    "最常用的随机生成函数为`rand`, `randn`, `randint`, `choice`，它们分别表示0-1均匀分布的随机数组、标准正态的随机数组、随机整数组和随机列表抽样："
   ]
  },
  {
   "cell_type": "code",
   "execution_count": 12,
   "metadata": {},
   "outputs": [
    {
     "data": {
      "text/plain": [
       "array([0.76348388, 0.49364342, 0.42924948])"
      ]
     },
     "execution_count": 12,
     "metadata": {},
     "output_type": "execute_result"
    }
   ],
   "source": [
    "np.random.rand(3) # 生成服从0-1均匀分布的三个随机数"
   ]
  },
  {
   "cell_type": "code",
   "execution_count": 13,
   "metadata": {},
   "outputs": [
    {
     "data": {
      "text/plain": [
       "array([[0.12778867, 0.86285478, 0.66696867],\n",
       "       [0.75576282, 0.84917476, 0.08017255],\n",
       "       [0.77624227, 0.35513586, 0.83779357]])"
      ]
     },
     "execution_count": 13,
     "metadata": {},
     "output_type": "execute_result"
    }
   ],
   "source": [
    "np.random.rand(3, 3) # 注意这里传入的不是元组，每个维度大小分开输入"
   ]
  },
  {
   "cell_type": "markdown",
   "metadata": {},
   "source": [
    "对于服从区间`a`到`b`上的均匀分布可以如下生成："
   ]
  },
  {
   "cell_type": "code",
   "execution_count": 14,
   "metadata": {},
   "outputs": [
    {
     "data": {
      "text/plain": [
       "array([8.02734923, 8.64263892, 7.5620736 ])"
      ]
     },
     "execution_count": 14,
     "metadata": {},
     "output_type": "execute_result"
    }
   ],
   "source": [
    "a, b = 5, 15\n",
    "(b - a) * np.random.rand(3) + a"
   ]
  },
  {
   "cell_type": "markdown",
   "metadata": {},
   "source": [
    "一般的，可以选择已有的库函数："
   ]
  },
  {
   "cell_type": "code",
   "execution_count": 15,
   "metadata": {},
   "outputs": [
    {
     "data": {
      "text/plain": [
       "array([ 9.46220827,  7.77171952, 13.84585826])"
      ]
     },
     "execution_count": 15,
     "metadata": {},
     "output_type": "execute_result"
    }
   ],
   "source": [
    "np.random.uniform(5, 15, 3)"
   ]
  },
  {
   "cell_type": "markdown",
   "metadata": {},
   "source": [
    "`randn`生成了`N(0,I)`的标准正态分布："
   ]
  },
  {
   "cell_type": "code",
   "execution_count": 16,
   "metadata": {},
   "outputs": [
    {
     "data": {
      "text/plain": [
       "array([ 0.87553333,  1.47295787, -1.27349649])"
      ]
     },
     "execution_count": 16,
     "metadata": {},
     "output_type": "execute_result"
    }
   ],
   "source": [
    "np.random.randn(3)"
   ]
  },
  {
   "cell_type": "code",
   "execution_count": 17,
   "metadata": {},
   "outputs": [
    {
     "data": {
      "text/plain": [
       "array([[ 1.33701387, -2.17326489],\n",
       "       [-0.40157462,  1.99316949]])"
      ]
     },
     "execution_count": 17,
     "metadata": {},
     "output_type": "execute_result"
    }
   ],
   "source": [
    "np.random.randn(2, 2)"
   ]
  },
  {
   "cell_type": "markdown",
   "metadata": {},
   "source": [
    "对于服从方差为$\\sigma^2$均值为$\\mu$的一元正态分布可以如下生成："
   ]
  },
  {
   "cell_type": "code",
   "execution_count": 18,
   "metadata": {},
   "outputs": [
    {
     "data": {
      "text/plain": [
       "array([-0.09939999,  3.199316  ,  2.7242784 ])"
      ]
     },
     "execution_count": 18,
     "metadata": {},
     "output_type": "execute_result"
    }
   ],
   "source": [
    "sigma, mu = 2.5, 3\n",
    "mu + np.random.randn(3) * sigma"
   ]
  },
  {
   "cell_type": "markdown",
   "metadata": {},
   "source": [
    "同样的，也可选择从已有函数生成："
   ]
  },
  {
   "cell_type": "code",
   "execution_count": 19,
   "metadata": {},
   "outputs": [
    {
     "data": {
      "text/plain": [
       "array([2.06888207, 4.01783357, 3.97137782])"
      ]
     },
     "execution_count": 19,
     "metadata": {},
     "output_type": "execute_result"
    }
   ],
   "source": [
    "np.random.normal(3, 2.5, 3)"
   ]
  },
  {
   "cell_type": "markdown",
   "metadata": {},
   "source": [
    "`randint`可以指定生成随机整数的最小值最大值（不包含）和维度大小："
   ]
  },
  {
   "cell_type": "code",
   "execution_count": 20,
   "metadata": {},
   "outputs": [
    {
     "data": {
      "text/plain": [
       "array([[7, 6],\n",
       "       [9, 5]])"
      ]
     },
     "execution_count": 20,
     "metadata": {},
     "output_type": "execute_result"
    }
   ],
   "source": [
    "low, high, size = 5, 15, (2,2) # 生成5到14的随机整数\n",
    "np.random.randint(low, high, size)"
   ]
  },
  {
   "cell_type": "markdown",
   "metadata": {},
   "source": [
    "`choice`可以从给定的列表中，以一定概率和方式抽取结果，当不指定概率时为均匀采样，默认抽取方式为有放回抽样："
   ]
  },
  {
   "cell_type": "code",
   "execution_count": 21,
   "metadata": {},
   "outputs": [
    {
     "data": {
      "text/plain": [
       "array(['d', 'b'], dtype='<U1')"
      ]
     },
     "execution_count": 21,
     "metadata": {},
     "output_type": "execute_result"
    }
   ],
   "source": [
    "my_list = ['a', 'b', 'c', 'd']\n",
    "np.random.choice(my_list, 2, replace=False, p=[0.1, 0.7, 0.1 ,0.1])"
   ]
  },
  {
   "cell_type": "code",
   "execution_count": 22,
   "metadata": {},
   "outputs": [
    {
     "data": {
      "text/plain": [
       "array([['c', 'd', 'd'],\n",
       "       ['a', 'c', 'b'],\n",
       "       ['b', 'a', 'd']], dtype='<U1')"
      ]
     },
     "execution_count": 22,
     "metadata": {},
     "output_type": "execute_result"
    }
   ],
   "source": [
    "np.random.choice(my_list, (3,3))"
   ]
  },
  {
   "cell_type": "markdown",
   "metadata": {},
   "source": [
    "当返回的元素个数与原列表相同时，不放回抽样等价于使用`permutation`函数，即打散原列表："
   ]
  },
  {
   "cell_type": "code",
   "execution_count": null,
   "metadata": {},
   "outputs": [],
   "source": [
    "np.random.permutation(my_list)"
   ]
  },
  {
   "cell_type": "markdown",
   "metadata": {},
   "source": [
    "最后，需要提到的是随机种子，它能够固定随机数的输出结果："
   ]
  },
  {
   "cell_type": "code",
   "execution_count": 23,
   "metadata": {},
   "outputs": [
    {
     "data": {
      "text/plain": [
       "0.5488135039273248"
      ]
     },
     "execution_count": 23,
     "metadata": {},
     "output_type": "execute_result"
    }
   ],
   "source": [
    "np.random.seed(0)\n",
    "np.random.rand()"
   ]
  },
  {
   "cell_type": "code",
   "execution_count": 24,
   "metadata": {},
   "outputs": [
    {
     "data": {
      "text/plain": [
       "0.5488135039273248"
      ]
     },
     "execution_count": 24,
     "metadata": {},
     "output_type": "execute_result"
    }
   ],
   "source": [
    "np.random.seed(0)\n",
    "np.random.rand()"
   ]
  },
  {
   "cell_type": "markdown",
   "metadata": {},
   "source": [
    "### 2. np数组的变形与合并\n",
    "【a】转置：`T`"
   ]
  },
  {
   "cell_type": "code",
   "execution_count": 25,
   "metadata": {},
   "outputs": [
    {
     "data": {
      "text/plain": [
       "array([[0., 0.],\n",
       "       [0., 0.],\n",
       "       [0., 0.]])"
      ]
     },
     "execution_count": 25,
     "metadata": {},
     "output_type": "execute_result"
    }
   ],
   "source": [
    "np.zeros((2,3)).T"
   ]
  },
  {
   "cell_type": "markdown",
   "metadata": {},
   "source": [
    "【b】合并操作：`r_`, `c_`\n",
    "\n",
    "对于二维数组而言，`r_`和`c_`分别表示上下合并和左右合并："
   ]
  },
  {
   "cell_type": "code",
   "execution_count": 26,
   "metadata": {},
   "outputs": [
    {
     "data": {
      "text/plain": [
       "array([[0., 0., 0.],\n",
       "       [0., 0., 0.],\n",
       "       [0., 0., 0.],\n",
       "       [0., 0., 0.]])"
      ]
     },
     "execution_count": 26,
     "metadata": {},
     "output_type": "execute_result"
    }
   ],
   "source": [
    "np.r_[np.zeros((2,3)),np.zeros((2,3))]"
   ]
  },
  {
   "cell_type": "code",
   "execution_count": 27,
   "metadata": {},
   "outputs": [
    {
     "data": {
      "text/plain": [
       "array([[0., 0., 0., 0., 0., 0.],\n",
       "       [0., 0., 0., 0., 0., 0.]])"
      ]
     },
     "execution_count": 27,
     "metadata": {},
     "output_type": "execute_result"
    }
   ],
   "source": [
    "np.c_[np.zeros((2,3)),np.zeros((2,3))]"
   ]
  },
  {
   "cell_type": "markdown",
   "metadata": {},
   "source": [
    "一维数组和二维数组进行合并时，应当把其视作列向量，在长度匹配的情况下只能够使用左右合并的`c_`操作："
   ]
  },
  {
   "cell_type": "code",
   "execution_count": null,
   "metadata": {},
   "outputs": [],
   "source": [
    "try:\n",
    "     np.r_[np.array([0,0]),np.zeros((2,1))]\n",
    "except Exception as e:\n",
    "     Err_Msg = e\n",
    "Err_Msg"
   ]
  },
  {
   "cell_type": "code",
   "execution_count": null,
   "metadata": {},
   "outputs": [],
   "source": [
    "np.r_[np.array([0,0]),np.zeros(2)]"
   ]
  },
  {
   "cell_type": "code",
   "execution_count": null,
   "metadata": {},
   "outputs": [],
   "source": [
    "np.c_[np.array([0,0]),np.zeros((2,3))]"
   ]
  },
  {
   "cell_type": "markdown",
   "metadata": {},
   "source": [
    "【c】维度变换：`reshape`\n",
    "\n",
    "`reshape`能够帮助用户把原数组按照新的维度重新排列。在使用时有两种模式，分别为`C`模式和`F`模式，分别以逐行和逐列的顺序进行填充读取。"
   ]
  },
  {
   "cell_type": "code",
   "execution_count": null,
   "metadata": {},
   "outputs": [],
   "source": [
    "target = np.arange(8).reshape(2,4)\n",
    "target"
   ]
  },
  {
   "cell_type": "code",
   "execution_count": null,
   "metadata": {},
   "outputs": [],
   "source": [
    "target.reshape((4,2), order='C') # 按照行读取和填充"
   ]
  },
  {
   "cell_type": "code",
   "execution_count": null,
   "metadata": {},
   "outputs": [],
   "source": [
    "target.reshape((4,2), order='F') # 按照列读取和填充"
   ]
  },
  {
   "cell_type": "markdown",
   "metadata": {},
   "source": [
    "特别地，由于被调用数组的大小是确定的，`reshape`允许有一个维度存在空缺，此时只需填充-1即可："
   ]
  },
  {
   "cell_type": "code",
   "execution_count": null,
   "metadata": {},
   "outputs": [],
   "source": [
    "target.reshape((4,-1))"
   ]
  },
  {
   "cell_type": "markdown",
   "metadata": {},
   "source": [
    "下面将`n*1`大小的数组转为1维数组的操作是经常使用的："
   ]
  },
  {
   "cell_type": "code",
   "execution_count": null,
   "metadata": {},
   "outputs": [],
   "source": [
    "target = np.ones((3,1))\n",
    "target"
   ]
  },
  {
   "cell_type": "code",
   "execution_count": null,
   "metadata": {},
   "outputs": [],
   "source": [
    "target.reshape(-1)"
   ]
  },
  {
   "cell_type": "markdown",
   "metadata": {},
   "source": [
    "### 3. np数组的切片与索引\n",
    "数组的切片模式支持使用`slice`类型的`start:end:step`切片，还可以直接传入列表指定某个维度的索引进行切片："
   ]
  },
  {
   "cell_type": "code",
   "execution_count": null,
   "metadata": {},
   "outputs": [],
   "source": [
    "target = np.arange(9).reshape(3,3)\n",
    "target"
   ]
  },
  {
   "cell_type": "code",
   "execution_count": null,
   "metadata": {},
   "outputs": [],
   "source": [
    "target[:-1, [0,2]]"
   ]
  },
  {
   "cell_type": "markdown",
   "metadata": {},
   "source": [
    "此外，还可以利用`np.ix_`在对应的维度上使用布尔索引，但此时不能使用`slice`切片："
   ]
  },
  {
   "cell_type": "code",
   "execution_count": null,
   "metadata": {},
   "outputs": [],
   "source": [
    "target[np.ix_([True, False, True], [True, False, True])]"
   ]
  },
  {
   "cell_type": "code",
   "execution_count": null,
   "metadata": {},
   "outputs": [],
   "source": [
    "target[np.ix_([1,2], [True, False, True])]"
   ]
  },
  {
   "cell_type": "markdown",
   "metadata": {},
   "source": [
    "当数组维度为1维时，可以直接进行布尔索引，而无需`np.ix_`："
   ]
  },
  {
   "cell_type": "code",
   "execution_count": null,
   "metadata": {},
   "outputs": [],
   "source": [
    "new = target.reshape(-1)\n",
    "new[new%2==0]"
   ]
  },
  {
   "cell_type": "markdown",
   "metadata": {},
   "source": [
    "### 4. 常用函数\n",
    "为了简单起见，这里假设下述函数输入的数组都是一维的。\n",
    "\n",
    "【a】`where`\n",
    "\n",
    "`where`是一种条件函数，可以指定满足条件与不满足条件位置对应的填充值："
   ]
  },
  {
   "cell_type": "code",
   "execution_count": null,
   "metadata": {},
   "outputs": [],
   "source": [
    "a = np.array([-1,1,-1,0])\n",
    "np.where(a>0, a, 5) # 对应位置为True时填充a对应元素，否则填充5"
   ]
  },
  {
   "cell_type": "markdown",
   "metadata": {},
   "source": [
    "【b】`nonzero`, `argmax`, `argmin`\n",
    "\n",
    "这三个函数返回的都是索引，`nonzero`返回非零数的索引，`argmax`, `argmin`分别返回最大和最小数的索引："
   ]
  },
  {
   "cell_type": "code",
   "execution_count": null,
   "metadata": {},
   "outputs": [],
   "source": [
    "a = np.array([-2,-5,0,1,3,-1])\n",
    "np.nonzero(a)"
   ]
  },
  {
   "cell_type": "code",
   "execution_count": null,
   "metadata": {},
   "outputs": [],
   "source": [
    "a.argmax()"
   ]
  },
  {
   "cell_type": "code",
   "execution_count": null,
   "metadata": {},
   "outputs": [],
   "source": [
    "a.argmin()"
   ]
  },
  {
   "cell_type": "markdown",
   "metadata": {},
   "source": [
    "【c】`any`, `all`\n",
    "\n",
    "`any`指当序列至少 **存在一个** `True`或非零元素时返回`True`，否则返回`False`\n",
    "\n",
    "`all`指当序列元素 **全为** `True`或非零元素时返回`True`，否则返回`False`"
   ]
  },
  {
   "cell_type": "code",
   "execution_count": null,
   "metadata": {},
   "outputs": [],
   "source": [
    "a = np.array([0,1])\n",
    "a.any()"
   ]
  },
  {
   "cell_type": "code",
   "execution_count": null,
   "metadata": {},
   "outputs": [],
   "source": [
    " a.all()"
   ]
  },
  {
   "cell_type": "markdown",
   "metadata": {},
   "source": [
    "【d】`cumprod`, `cumsum`, `diff`\n",
    "\n",
    "`cumprod`, `cumsum`分别表示累乘和累加函数，返回同长度的数组，`diff`表示和前一个元素做差，由于第一个元素为缺失值，因此在默认参数情况下，返回长度是原数组减1"
   ]
  },
  {
   "cell_type": "code",
   "execution_count": null,
   "metadata": {},
   "outputs": [],
   "source": [
    "a = np.array([1,2,3])\n",
    "a.cumprod()"
   ]
  },
  {
   "cell_type": "code",
   "execution_count": null,
   "metadata": {},
   "outputs": [],
   "source": [
    "a.cumsum()"
   ]
  },
  {
   "cell_type": "code",
   "execution_count": null,
   "metadata": {},
   "outputs": [],
   "source": [
    "np.diff(a)"
   ]
  },
  {
   "cell_type": "markdown",
   "metadata": {},
   "source": [
    "【e】 统计函数\n",
    "\n",
    "常用的统计函数包括`max, min, mean, median, std, var, sum, quantile`，其中分位数计算是全局方法，因此不能通过`array.quantile`的方法调用："
   ]
  },
  {
   "cell_type": "code",
   "execution_count": null,
   "metadata": {},
   "outputs": [],
   "source": [
    "target = np.arange(5)\n",
    "target"
   ]
  },
  {
   "cell_type": "code",
   "execution_count": null,
   "metadata": {},
   "outputs": [],
   "source": [
    "target.max()"
   ]
  },
  {
   "cell_type": "code",
   "execution_count": null,
   "metadata": {},
   "outputs": [],
   "source": [
    "np.quantile(target, 0.5) # 0.5分位数"
   ]
  },
  {
   "cell_type": "markdown",
   "metadata": {},
   "source": [
    "但是对于含有缺失值的数组，它们返回的结果也是缺失值，如果需要略过缺失值，必须使用`nan*`类型的函数，上述的几个统计函数都有对应的`nan*`函数。"
   ]
  },
  {
   "cell_type": "code",
   "execution_count": null,
   "metadata": {},
   "outputs": [],
   "source": [
    "target = np.array([1, 2, np.nan])\n",
    "target"
   ]
  },
  {
   "cell_type": "code",
   "execution_count": null,
   "metadata": {},
   "outputs": [],
   "source": [
    "target.max()"
   ]
  },
  {
   "cell_type": "code",
   "execution_count": null,
   "metadata": {},
   "outputs": [],
   "source": [
    "np.nanmax(target)"
   ]
  },
  {
   "cell_type": "code",
   "execution_count": null,
   "metadata": {},
   "outputs": [],
   "source": [
    "np.nanquantile(target, 0.5)"
   ]
  },
  {
   "cell_type": "markdown",
   "metadata": {},
   "source": [
    "对于协方差和相关系数分别可以利用`cov, corrcoef`如下计算："
   ]
  },
  {
   "cell_type": "code",
   "execution_count": null,
   "metadata": {},
   "outputs": [],
   "source": [
    "target1 = np.array([1,3,5,9])\n",
    "target2 = np.array([1,5,3,-9])\n",
    "np.cov(target1, target2)"
   ]
  },
  {
   "cell_type": "code",
   "execution_count": null,
   "metadata": {},
   "outputs": [],
   "source": [
    "np.corrcoef(target1, target2)"
   ]
  },
  {
   "cell_type": "markdown",
   "metadata": {},
   "source": [
    "最后，需要说明二维`Numpy`数组中统计函数的`axis`参数，它能够进行某一个维度下的统计特征计算，当`axis=0`时结果为列的统计指标，当`axis=1`时结果为行的统计指标："
   ]
  },
  {
   "cell_type": "code",
   "execution_count": null,
   "metadata": {},
   "outputs": [],
   "source": [
    "target = np.arange(1,10).reshape(3,-1)\n",
    "target"
   ]
  },
  {
   "cell_type": "code",
   "execution_count": null,
   "metadata": {},
   "outputs": [],
   "source": [
    "target.sum(0)"
   ]
  },
  {
   "cell_type": "code",
   "execution_count": null,
   "metadata": {},
   "outputs": [],
   "source": [
    "target.sum(1)"
   ]
  },
  {
   "cell_type": "markdown",
   "metadata": {},
   "source": [
    "### 5. 广播机制\n",
    "\n",
    "广播机制用于处理两个不同维度数组之间的操作，这里只讨论不超过两维的数组广播机制。\n",
    "\n",
    "【a】标量和数组的操作\n",
    "\n",
    "当一个标量和数组进行运算时，标量会自动把大小扩充为数组大小，之后进行逐元素操作："
   ]
  },
  {
   "cell_type": "code",
   "execution_count": null,
   "metadata": {},
   "outputs": [],
   "source": [
    "res = 3 * np.ones((2,2)) + 1\n",
    "res"
   ]
  },
  {
   "cell_type": "code",
   "execution_count": null,
   "metadata": {},
   "outputs": [],
   "source": [
    "res = 1 / res\n",
    "res"
   ]
  },
  {
   "cell_type": "markdown",
   "metadata": {},
   "source": [
    "【b】二维数组之间的操作\n",
    "\n",
    "当两个数组维度完全一致时，使用对应元素的操作，否则会报错，除非其中的某个数组的维度是$m×1$或者$1×n$，那么会扩充其具有$1$的维度为另一个数组对应维度的大小。例如，$1×2$数组和$3×2$数组做逐元素运算时会把第一个数组扩充为$3×2$，扩充时的对应数值进行赋值。但是，需要注意的是，如果第一个数组的维度是$1×3$，那么由于在第二维上的大小不匹配且不为$1$，此时报错。"
   ]
  },
  {
   "cell_type": "code",
   "execution_count": null,
   "metadata": {},
   "outputs": [],
   "source": [
    "res = np.ones((3,2))\n",
    "res"
   ]
  },
  {
   "cell_type": "code",
   "execution_count": null,
   "metadata": {},
   "outputs": [],
   "source": [
    "res * np.array([[2,3]]) # 第二个数组扩充第一维度为3"
   ]
  },
  {
   "cell_type": "code",
   "execution_count": null,
   "metadata": {},
   "outputs": [],
   "source": [
    "res * np.array([[2],[3],[4]]) # 第二个数组扩充第二维度为2"
   ]
  },
  {
   "cell_type": "code",
   "execution_count": null,
   "metadata": {},
   "outputs": [],
   "source": [
    "res * np.array([[2]]) # 等价于两次扩充，第二个数组两个维度分别扩充为3和2"
   ]
  },
  {
   "cell_type": "markdown",
   "metadata": {},
   "source": [
    "【c】一维数组与二维数组的操作\n",
    "\n",
    "当一维数组$A_k$与二维数组$B_{m,n}$操作时，等价于把一维数组视作$A_{1,k}$的二维数组，使用的广播法则与【b】中一致，当$k!=n$且$k,n$都不是$1$时报错。"
   ]
  },
  {
   "cell_type": "code",
   "execution_count": null,
   "metadata": {},
   "outputs": [],
   "source": [
    "np.ones(3) + np.ones((2,3))"
   ]
  },
  {
   "cell_type": "code",
   "execution_count": null,
   "metadata": {},
   "outputs": [],
   "source": [
    "np.ones(3) + np.ones((2,1))"
   ]
  },
  {
   "cell_type": "code",
   "execution_count": null,
   "metadata": {},
   "outputs": [],
   "source": [
    "np.ones(1) + np.ones((2,3))"
   ]
  },
  {
   "cell_type": "markdown",
   "metadata": {},
   "source": [
    "### 6. 向量与矩阵的计算\n",
    "【a】向量内积：`dot`\n",
    "\n",
    "$$\\rm \\mathbf{a}\\cdot\\mathbf{b} = \\sum_ia_ib_i$$"
   ]
  },
  {
   "cell_type": "code",
   "execution_count": null,
   "metadata": {},
   "outputs": [],
   "source": [
    "a = np.array([1,2,3])\n",
    "b = np.array([1,3,5])\n",
    "a.dot(b)"
   ]
  },
  {
   "cell_type": "markdown",
   "metadata": {},
   "source": [
    "【b】向量范数和矩阵范数：`np.linalg.norm`\n",
    "\n",
    "在矩阵范数的计算中，最重要的是`ord`参数，可选值如下："
   ]
  },
  {
   "cell_type": "markdown",
   "metadata": {},
   "source": [
    "| ord | norm for matrices | norm for vectors |\n",
    "| :---- | ----: | ----: |\n",
    "| None   | Frobenius norm | 2-norm |\n",
    "| 'fro'  | Frobenius norm  | / |\n",
    "| 'nuc'  | nuclear norm    | / |\n",
    "| inf    | max(sum(abs(x), axis=1))   | max(abs(x)) |\n",
    "| -inf   | min(sum(abs(x), axis=1))  |  min(abs(x)) |\n",
    "| 0      | /   |  sum(x != 0) |\n",
    "| 1      | max(sum(abs(x), axis=0))  |  as below |\n",
    "| -1     | min(sum(abs(x), axis=0))   |  as below |\n",
    "| 2      | 2-norm (largest sing. value) | as below |\n",
    "| -2     | smallest singular value    | as below |\n",
    "| other  | /   | sum(abs(x)\\*\\*ord)\\*\\*(1./ord) |"
   ]
  },
  {
   "cell_type": "code",
   "execution_count": null,
   "metadata": {},
   "outputs": [],
   "source": [
    "matrix_target =  np.arange(4).reshape(-1,2)\n",
    "matrix_target"
   ]
  },
  {
   "cell_type": "code",
   "execution_count": null,
   "metadata": {},
   "outputs": [],
   "source": [
    "np.linalg.norm(matrix_target, 'fro')"
   ]
  },
  {
   "cell_type": "code",
   "execution_count": null,
   "metadata": {},
   "outputs": [],
   "source": [
    "np.linalg.norm(matrix_target, np.inf)"
   ]
  },
  {
   "cell_type": "code",
   "execution_count": null,
   "metadata": {},
   "outputs": [],
   "source": [
    "np.linalg.norm(matrix_target, 2)"
   ]
  },
  {
   "cell_type": "code",
   "execution_count": null,
   "metadata": {},
   "outputs": [],
   "source": [
    "vector_target =  np.arange(4)\n",
    "vector_target"
   ]
  },
  {
   "cell_type": "code",
   "execution_count": null,
   "metadata": {},
   "outputs": [],
   "source": [
    "np.linalg.norm(vector_target, np.inf)"
   ]
  },
  {
   "cell_type": "code",
   "execution_count": null,
   "metadata": {},
   "outputs": [],
   "source": [
    "np.linalg.norm(vector_target, 2)"
   ]
  },
  {
   "cell_type": "code",
   "execution_count": null,
   "metadata": {},
   "outputs": [],
   "source": [
    "np.linalg.norm(vector_target, 3)"
   ]
  },
  {
   "cell_type": "markdown",
   "metadata": {},
   "source": [
    "【c】矩阵乘法：`@`\n",
    "\n",
    "$$\\rm [\\mathbf{A}_{m\\times p}\\mathbf{B}_{p\\times n}]_{ij} = \\sum_{k=1}^p\\mathbf{A}_{ik}\\mathbf{B}_{kj}$$"
   ]
  },
  {
   "cell_type": "code",
   "execution_count": null,
   "metadata": {},
   "outputs": [],
   "source": [
    "a = np.arange(4).reshape(-1,2)\n",
    "a"
   ]
  },
  {
   "cell_type": "code",
   "execution_count": null,
   "metadata": {},
   "outputs": [],
   "source": [
    "b = np.arange(-4,0).reshape(-1,2)\n",
    "b"
   ]
  },
  {
   "cell_type": "code",
   "execution_count": null,
   "metadata": {},
   "outputs": [],
   "source": [
    "a@b"
   ]
  },
  {
   "cell_type": "markdown",
   "metadata": {},
   "source": [
    "## 三、练习\n",
    "### Ex1：利用列表推导式写矩阵乘法\n",
    "一般的矩阵乘法根据公式，可以由三重循环写出，请将其改写为列表推导式的形式。"
   ]
  },
  {
   "cell_type": "code",
   "execution_count": null,
   "metadata": {},
   "outputs": [],
   "source": [
    "# 生成一个2x3的随机矩阵M1\n",
    "M1 = np.random.rand(2,3)\n",
    "# 生成一个3x4的随机矩阵M2\n",
    "M2 = np.random.rand(3,4)\n",
    "# 创建一个用于存储结果的空矩阵res，其形状为M1的行数和M2的列数\n",
    "res = np.empty((M1.shape[0],M2.shape[1]))\n",
    "# 使用三重循环进行矩阵乘法运算\n",
    "for i in range(M1.shape[0]):\n",
    "    for j in range(M2.shape[1]):\n",
    "        item = 0\n",
    "        for k in range(M1.shape[1]):\n",
    "            item += M1[i][k] * M2[k][j]\n",
    "        res[i][j] = item\n",
    "# 验证手动计算的结果与numpy内置的矩阵乘法结果是否一致，排除数值误差\n",
    "(np.abs((M1@M2 - res) < 1e-15)).all()\n",
    "        item = 0\n",
    "        for k in range(M1.shape[1]):\n",
    "            item += M1[i][k] * M2[k][j]\n",
    "        res[i][j] = item\n",
    "\n",
    "# 验证手动实现的矩阵乘法结果与使用 numpy 的矩阵乘法运算符 @ 的结果是否一致，排除数值误差\n",
    "(np.abs((M1@M2 - res) < 1e-15)).all()"
   ]
  },
  {
   "cell_type": "markdown",
   "metadata": {},
   "source": [
    "### Ex2：更新矩阵\n",
    "设矩阵 $A_{m×n}$ ，现在对 $A$ 中的每一个元素进行更新生成矩阵 $B$ ，更新方法是 $B_{ij}=A_{ij}\\sum_{k=1}^n\\frac{1}{A_{ik}}$ ，例如下面的矩阵为 $A$ ，则 $B_{2,2}=5\\times(\\frac{1}{4}+\\frac{1}{5}+\\frac{1}{6})=\\frac{37}{12}$ ，请利用 `Numpy` 高效实现。\n",
    "$$\\begin{split}A=\\left[ \\begin{matrix} 1 & 2 &3\\\\4&5&6\\\\7&8&9 \\end{matrix} \\right]\\end{split}$$"
   ]
  },
  {
   "cell_type": "markdown",
   "metadata": {},
   "source": [
    "### Ex3：卡方统计量\n",
    "\n",
    "设矩阵$A_{m\\times n}$，记$B_{ij} = \\frac{(\\sum_{i=1}^mA_{ij})\\times (\\sum_{j=1}^nA_{ij})}{\\sum_{i=1}^m\\sum_{j=1}^nA_{ij}}$，定义卡方值如下：\n",
    "$$\\chi^2 = \\sum_{i=1}^m\\sum_{j=1}^n\\frac{(A_{ij}-B_{ij})^2}{B_{ij}}$$\n",
    "请利用`Numpy`对给定的矩阵$A$计算$\\chi^2$ "
   ]
  },
  {
   "cell_type": "code",
   "execution_count": 101,
   "metadata": {},
   "outputs": [],
   "source": [
    "np.random.seed(0)\n",
    "A = np.random.randint(10, 20, (8, 5))"
   ]
  },
  {
   "cell_type": "markdown",
   "metadata": {},
   "source": [
    "### Ex4：改进矩阵计算的性能\n",
    "设$Z$为$m×n$的矩阵，$B$和$U$分别是$m×p$和$p×n$的矩阵，$B_i$为$B$的第$i$行，$U_j$为$U$的第$j$列，下面定义$\\displaystyle R=\\sum_{i=1}^m\\sum_{j=1}^n\\|B_i-U_j\\|_2^2Z_{ij}$，其中$\\|\\mathbf{a}\\|_2^2$表示向量$a$的分量平方和$\\sum_i a_i^2$。\n",
    "\n",
    "现有某人根据如下给定的样例数据计算$R$的值，请充分利用`Numpy`中的函数，基于此问题改进这段代码的性能。"
   ]
  },
  {
   "cell_type": "code",
   "execution_count": null,
   "metadata": {},
   "outputs": [],
   "source": [
    "np.random.seed(0)\n",
    "m, n, p = 100, 80, 50\n",
    "B = np.random.randint(0, 2, (m, p))\n",
    "U = np.random.randint(0, 2, (p, n))\n",
    "Z = np.random.randint(0, 2, (m, n))\n",
    "def solution(B=B, U=U, Z=Z):\n",
    "    L_res = []\n",
    "    for i in range(m):\n",
    "        for j in range(n):\n",
    "            norm_value = ((B[i]-U[:,j])**2).sum()\n",
    "            L_res.append(norm_value*Z[i][j])\n",
    "    return sum(L_res)\n",
    "solution(B, U, Z)"
   ]
  },
  {
   "cell_type": "markdown",
   "metadata": {},
   "source": [
    "### Ex5：连续整数的最大长度\n",
    "\n",
    "输入一个整数的`Numpy`数组，返回其中严格递增连续整数子数组的最大长度，正向是指递增方向。例如，输入\\[1,2,5,6,7\\]，\\[5,6,7\\]为具有最大长度的连续整数子数组，因此输出3；输入\\[3,2,1,2,3,4,6\\]，\\[1,2,3,4\\]为具有最大长度的连续整数子数组，因此输出4。请充分利用`Numpy`的内置函数完成。（提示：考虑使用`nonzero, diff`函数）"
   ]
  }
 ],
 "metadata": {
  "kernelspec": {
   "display_name": "base",
   "language": "python",
   "name": "python3"
  },
  "language_info": {
   "codemirror_mode": {
    "name": "ipython",
    "version": 3
   },
   "file_extension": ".py",
   "mimetype": "text/x-python",
   "name": "python",
   "nbconvert_exporter": "python",
   "pygments_lexer": "ipython3",
   "version": "3.12.4"
  },
  "orig_nbformat": 2
 },
 "nbformat": 4,
 "nbformat_minor": 2
}
