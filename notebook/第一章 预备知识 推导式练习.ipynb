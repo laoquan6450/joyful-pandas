{
 "cells": [
  {
   "cell_type": "markdown",
   "metadata": {},
   "source": [
    "# Python 推导式练习\n",
    "\n",
    "本练习旨在帮助你巩固 Python 中列表推导式、字典推导式、集合推导式以及嵌套推导式的用法。每个练习都附有参考答案，供你对照检查。"
   ]
  },
  {
   "cell_type": "markdown",
   "metadata": {},
   "source": [
    "## 1. 基础列表推导式"
   ]
  },
  {
   "cell_type": "markdown",
   "metadata": {},
   "source": [
    "### 题目 1\n",
    "使用列表推导式生成一个包含 0 到 9 的平方的列表。"
   ]
  },
  {
   "cell_type": "code",
   "execution_count": 1,
   "metadata": {},
   "outputs": [
    {
     "data": {
      "text/plain": [
       "[0, 1, 4, 9, 16, 25, 36, 49, 64, 81]"
      ]
     },
     "execution_count": 1,
     "metadata": {},
     "output_type": "execute_result"
    }
   ],
   "source": [
    "squares = [i**2 for i in range(10)]\n",
    "\n",
    "squares"
   ]
  },
  {
   "cell_type": "code",
   "execution_count": null,
   "metadata": {},
   "outputs": [],
   "source": [
    "# 你的代码\n",
    "squares = [x**2 for x in range(10)]\n",
    "squares"
   ]
  },
  {
   "cell_type": "markdown",
   "metadata": {},
   "source": [
    "### 题目 2\n",
    "使用列表推导式生成一个包含 0 到 9 中偶数的列表。"
   ]
  },
  {
   "cell_type": "code",
   "execution_count": 2,
   "metadata": {},
   "outputs": [
    {
     "data": {
      "text/plain": [
       "[2, 4, 6, 8]"
      ]
     },
     "execution_count": 2,
     "metadata": {},
     "output_type": "execute_result"
    }
   ],
   "source": [
    "oushu = [x for x in range(1,10) if x % 2 ==0] \n",
    "\n",
    "oushu"
   ]
  },
  {
   "cell_type": "code",
   "execution_count": null,
   "metadata": {},
   "outputs": [],
   "source": [
    "# 你的代码\n",
    "evens = [x for x in range(10) if x % 2 == 0]\n",
    "evens"
   ]
  },
  {
   "cell_type": "markdown",
   "metadata": {},
   "source": [
    "### 题目 3\n",
    "使用列表推导式生成一个包含 0 到 9 中奇数的立方的列表。"
   ]
  },
  {
   "cell_type": "code",
   "execution_count": 3,
   "metadata": {},
   "outputs": [
    {
     "data": {
      "text/plain": [
       "[1, 27, 125, 343, 729]"
      ]
     },
     "execution_count": 3,
     "metadata": {},
     "output_type": "execute_result"
    }
   ],
   "source": [
    "jishu = [x**3 for x in range(1, 10) if x % 2 != 0]\n",
    "\n",
    "jishu "
   ]
  },
  {
   "cell_type": "code",
   "execution_count": null,
   "metadata": {},
   "outputs": [],
   "source": [
    "# 你的代码\n",
    "odd_cubes = [x**3 for x in range(10) if x % 2 != 0]\n",
    "odd_cubes"
   ]
  },
  {
   "cell_type": "markdown",
   "metadata": {},
   "source": [
    "## 2. 带条件的列表推导式"
   ]
  },
  {
   "cell_type": "markdown",
   "metadata": {},
   "source": [
    "### 题目 4\n",
    "使用列表推导式生成一个包含 0 到 19 中能被 3 整除的数的列表。"
   ]
  },
  {
   "cell_type": "code",
   "execution_count": 4,
   "metadata": {},
   "outputs": [
    {
     "data": {
      "text/plain": [
       "[0, 3, 6, 9, 12, 15, 18]"
      ]
     },
     "execution_count": 4,
     "metadata": {},
     "output_type": "execute_result"
    }
   ],
   "source": [
    "data = [x for x in range(20) if x % 3 == 0]\n",
    "\n",
    "data"
   ]
  },
  {
   "cell_type": "code",
   "execution_count": null,
   "metadata": {},
   "outputs": [],
   "source": [
    "# 你的代码\n",
    "divisible_by_3 = [x for x in range(20) if x % 3 == 0]\n",
    "divisible_by_3"
   ]
  },
  {
   "cell_type": "markdown",
   "metadata": {},
   "source": [
    "### 题目 5\n",
    "使用列表推导式生成一个包含 0 到 19 中能被 2 或 3 整除的数的列表。"
   ]
  },
  {
   "cell_type": "code",
   "execution_count": 5,
   "metadata": {},
   "outputs": [
    {
     "data": {
      "text/plain": [
       "[0, 2, 3, 4, 6, 8, 9, 10, 12, 14, 15, 16, 18]"
      ]
     },
     "execution_count": 5,
     "metadata": {},
     "output_type": "execute_result"
    }
   ],
   "source": [
    "data = [x for x in range(20) if x % 3 == 0 or x % 2 == 0] \n",
    "\n",
    "data"
   ]
  },
  {
   "cell_type": "code",
   "execution_count": null,
   "metadata": {},
   "outputs": [],
   "source": [
    "# 你的代码\n",
    "divisible_by_2_or_3 = [x for x in range(20) if x % 2 == 0 or x % 3 == 0]\n",
    "divisible_by_2_or_3"
   ]
  },
  {
   "cell_type": "markdown",
   "metadata": {},
   "source": [
    "### 题目 6\n",
    "使用列表推导式生成一个包含 0 到 9 中大于 5 的数的平方的列表。"
   ]
  },
  {
   "cell_type": "code",
   "execution_count": 6,
   "metadata": {},
   "outputs": [
    {
     "data": {
      "text/plain": [
       "[36, 49, 64, 81]"
      ]
     },
     "execution_count": 6,
     "metadata": {},
     "output_type": "execute_result"
    }
   ],
   "source": [
    "data = [x**2 for x in range(10) if x > 5]\n",
    "\n",
    "data "
   ]
  },
  {
   "cell_type": "code",
   "execution_count": null,
   "metadata": {},
   "outputs": [],
   "source": [
    "# 你的代码\n",
    "squares_gt_5 = [x**2 for x in range(10) if x > 5]\n",
    "squares_gt_5"
   ]
  },
  {
   "cell_type": "markdown",
   "metadata": {},
   "source": [
    "## 3. 嵌套列表推导式"
   ]
  },
  {
   "cell_type": "markdown",
   "metadata": {},
   "source": [
    "### 题目 7\n",
    "使用列表推导式生成一个 3x3 的矩阵，其中每个元素的值是 `i + j`，`i` 是行索引，`j` 是列索引。"
   ]
  },
  {
   "cell_type": "code",
   "execution_count": null,
   "metadata": {},
   "outputs": [],
   "source": [
    "# 你的代码\n",
    "matrix = [[i + j for j in range(3)] for i in range(3)]\n",
    "matrix"
   ]
  },
  {
   "cell_type": "markdown",
   "metadata": {},
   "source": [
    "### 题目 8\n",
    "使用列表推导式将一个嵌套列表 `[[1, 2, 3], [4, 5, 6], [7, 8, 9]]` 扁平化。"
   ]
  },
  {
   "cell_type": "code",
   "execution_count": null,
   "metadata": {},
   "outputs": [],
   "source": [
    "# 你的代码\n",
    "nested_list = [[1, 2, 3], [4, 5, 6], [7, 8, 9]]\n",
    "flattened = [num for sublist in nested_list for num in sublist]\n",
    "flattened"
   ]
  },
  {
   "cell_type": "markdown",
   "metadata": {},
   "source": [
    "### 题目 9\n",
    "使用列表推导式生成一个包含两个列表 `[1, 2, 3]` 和 `['a', 'b', 'c']` 的所有组合的列表。"
   ]
  },
  {
   "cell_type": "code",
   "execution_count": null,
   "metadata": {},
   "outputs": [],
   "source": [
    "# 你的代码\n",
    "combinations = [(x, y) for x in [1, 2, 3] for y in ['a', 'b', 'c']]\n",
    "combinations"
   ]
  },
  {
   "cell_type": "markdown",
   "metadata": {},
   "source": [
    "## 4. 字典推导式"
   ]
  },
  {
   "cell_type": "markdown",
   "metadata": {},
   "source": [
    "### 题目 10\n",
    "使用字典推导式生成一个字典，键为 0 到 9，值为键的平方。"
   ]
  },
  {
   "cell_type": "code",
   "execution_count": null,
   "metadata": {},
   "outputs": [],
   "source": [
    "# 你的代码\n",
    "square_dict = {x: x**2 for x in range(10)}\n",
    "square_dict"
   ]
  },
  {
   "cell_type": "markdown",
   "metadata": {},
   "source": [
    "### 题目 11\n",
    "使用字典推导式将一个列表 `['apple', 'banana', 'cherry']` 转换为字典，键为列表元素，值为元素的长度。"
   ]
  },
  {
   "cell_type": "code",
   "execution_count": null,
   "metadata": {},
   "outputs": [],
   "source": [
    "# 你的代码\n",
    "words = ['apple', 'banana', 'cherry']\n",
    "word_lengths = {word: len(word) for word in words}\n",
    "word_lengths"
   ]
  },
  {
   "cell_type": "markdown",
   "metadata": {},
   "source": [
    "### 题目 12\n",
    "使用字典推导式生成一个字典，键为 0 到 9 中的偶数，值为键的一半。"
   ]
  },
  {
   "cell_type": "code",
   "execution_count": null,
   "metadata": {},
   "outputs": [],
   "source": [
    "# 你的代码\n",
    "even_half = {x: x // 2 for x in range(10) if x % 2 == 0}\n",
    "even_half"
   ]
  },
  {
   "cell_type": "markdown",
   "metadata": {},
   "source": [
    "## 5. 集合推导式"
   ]
  },
  {
   "cell_type": "markdown",
   "metadata": {},
   "source": [
    "### 题目 13\n",
    "使用集合推导式生成一个包含 0 到 9 的平方的集合。"
   ]
  },
  {
   "cell_type": "code",
   "execution_count": null,
   "metadata": {},
   "outputs": [],
   "source": [
    "# 你的代码\n",
    "squares_set = {x**2 for x in range(10)}\n",
    "squares_set"
   ]
  },
  {
   "cell_type": "markdown",
   "metadata": {},
   "source": [
    "### 题目 14\n",
    "使用集合推导式生成一个包含 0 到 19 中能被 3 整除的数的集合。"
   ]
  },
  {
   "cell_type": "code",
   "execution_count": null,
   "metadata": {},
   "outputs": [],
   "source": [
    "# 你的代码\n",
    "divisible_by_3_set = {x for x in range(20) if x % 3 == 0}\n",
    "divisible_by_3_set"
   ]
  },
  {
   "cell_type": "markdown",
   "metadata": {},
   "source": [
    "### 题目 15\n",
    "使用集合推导式生成一个包含两个列表 `[1, 2, 2, 3]` 和 `[3, 4, 4, 5]` 的所有唯一元素的集合。"
   ]
  },
  {
   "cell_type": "code",
   "execution_count": null,
   "metadata": {},
   "outputs": [],
   "source": [
    "# 你的代码\n",
    "unique_elements = {x for x in [1, 2, 2, 3] + [3, 4, 4, 5]}\n",
    "unique_elements"
   ]
  },
  {
   "cell_type": "markdown",
   "metadata": {},
   "source": [
    "## 6. 综合练习"
   ]
  },
  {
   "cell_type": "markdown",
   "metadata": {},
   "source": [
    "### 题目 16\n",
    "使用列表推导式生成一个包含 0 到 99 中能被 7 整除但不能被 3 整除的数的列表。"
   ]
  },
  {
   "cell_type": "code",
   "execution_count": null,
   "metadata": {},
   "outputs": [],
   "source": [
    "# 你的代码\n",
    "divisible_by_7_not_3 = [x for x in range(100) if x % 7 == 0 and x % 3 != 0]\n",
    "divisible_by_7_not_3"
   ]
  },
  {
   "cell_type": "markdown",
   "metadata": {},
   "source": [
    "### 题目 17\n",
    "使用字典推导式生成一个字典，键为 0 到 9，值为键的平方，但只包含值为偶数的键值对。"
   ]
  },
  {
   "cell_type": "code",
   "execution_count": null,
   "metadata": {},
   "outputs": [],
   "source": [
    "# 你的代码\n",
    "even_squares_dict = {x: x**2 for x in range(10) if x**2 % 2 == 0}\n",
    "even_squares_dict"
   ]
  },
  {
   "cell_type": "markdown",
   "metadata": {},
   "source": [
    "### 题目 18\n",
    "使用集合推导式生成一个包含 0 到 99 中能被 2 或 3 整除但不能被 6 整除的数的集合。"
   ]
  },
  {
   "cell_type": "code",
   "execution_count": null,
   "metadata": {},
   "outputs": [],
   "source": [
    "# 你的代码\n",
    "divisible_by_2_or_3_not_6 = {x for x in range(100) if (x % 2 == 0 or x % 3 == 0) and x % 6 != 0}\n",
    "divisible_by_2_or_3_not_6"
   ]
  },
  {
   "cell_type": "markdown",
   "metadata": {},
   "source": [
    "### 题目 19\n",
    "使用嵌套列表推导式生成一个 4x4 的矩阵，其中每个元素的值是 `i * j`，`i` 是行索引，`j` 是列索引。"
   ]
  },
  {
   "cell_type": "code",
   "execution_count": null,
   "metadata": {},
   "outputs": [],
   "source": [
    "# 你的代码\n",
    "matrix_4x4 = [[i * j for j in range(4)] for i in range(4)]\n",
    "matrix_4x4"
   ]
  },
  {
   "cell_type": "markdown",
   "metadata": {},
   "source": [
    "### 题目 20\n",
    "使用列表推导式将一个嵌套列表 `[[1, 2, [3, 4]], [5, [6, 7]], [8, 9]]` 扁平化（假设嵌套深度不确定）。"
   ]
  },
  {
   "cell_type": "code",
   "execution_count": null,
   "metadata": {},
   "outputs": [],
   "source": [
    "# 你的代码\n",
    "def flatten(lst):\n",
    "    return [item for sublist in lst for item in (flatten(sublist) if isinstance(sublist, list) else [sublist])]\n",
    "\n",
    "nested_list = [[1, 2, [3, 4]], [5, [6, 7]], [8, 9]]\n",
    "flattened = flatten(nested_list)\n",
    "flattened"
   ]
  }
 ],
 "metadata": {
  "kernelspec": {
   "display_name": "base",
   "language": "python",
   "name": "python3"
  },
  "language_info": {
   "codemirror_mode": {
    "name": "ipython",
    "version": 3
   },
   "file_extension": ".py",
   "mimetype": "text/x-python",
   "name": "python",
   "nbconvert_exporter": "python",
   "pygments_lexer": "ipython3",
   "version": "3.12.4"
  }
 },
 "nbformat": 4,
 "nbformat_minor": 4
}
